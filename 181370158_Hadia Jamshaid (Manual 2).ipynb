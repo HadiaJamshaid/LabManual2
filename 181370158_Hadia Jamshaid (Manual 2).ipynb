{
 "cells": [
  {
   "cell_type": "markdown",
   "id": "f435f7e7",
   "metadata": {},
   "source": [
    "# Ex 7.1\n"
   ]
  },
  {
   "cell_type": "code",
   "execution_count": 1,
   "id": "98ad32ea",
   "metadata": {},
   "outputs": [
    {
     "name": "stdout",
     "output_type": "stream",
     "text": [
      "Enter mass : 20\n",
      "It's too Heavy\n"
     ]
    }
   ],
   "source": [
    "mass = float(input(\"Enter mass : \"))\n",
    "weight = mass*39.8 \n",
    "if weight<100:\n",
    "     print(\"It's too Light\")\n",
    "elif weight>500:\n",
    "        print(\"It's too Heavy\")\n",
    "else:\n",
    "         print(\"Optimal\")"
   ]
  },
  {
   "cell_type": "markdown",
   "id": "0b171e7d",
   "metadata": {},
   "source": [
    "# Ex 7.2"
   ]
  },
  {
   "cell_type": "code",
   "execution_count": 33,
   "id": "882e7cb3",
   "metadata": {},
   "outputs": [
    {
     "name": "stdout",
     "output_type": "stream",
     "text": [
      "Enter No of people attending the cookout :1\n",
      "Enter nub of hotdogs for each person :1\n",
      "Enter the nub of buns for each person :1\n",
      "No of hotdogs for 1 person : 1.0\n",
      "Nub of buns for 1 person : 1.0\n",
      "Total hot dogs packages : 1\n",
      "Total buns packages : 1\n",
      "The number of hot dogs that will be left over : 9\n",
      "The number of hot dog buns that will be left over : 7\n"
     ]
    }
   ],
   "source": [
    "import math\n",
    "people=int(input(\"Enter No of people attending the cookout :\"))\n",
    "hot=float(input(\"Enter nub of hotdogs for each person :\"))\n",
    "bun=float(input(\"Enter the nub of buns for each person :\"))\n",
    "hotdogs=10\n",
    "buns=8\n",
    "\n",
    "hotdog= hot*people\n",
    "print(\"No of hotdogs for 1 person :\",hotdog)\n",
    "tbuns=bun*people\n",
    "print(\"Nub of buns for 1 person :\",tbuns)\n",
    "thdp=hotdog / hotdogs\n",
    "\n",
    "var1=math.ceil(thdp)\n",
    "print(\"Total hot dogs packages :\",var1)\n",
    "tbp=tbuns / buns\n",
    "var2=math.ceil(tbp)\n",
    "\n",
    "print(\"Total buns packages :\",var2)\n",
    "\n",
    "rht=int(var1*hotdogs-hotdog)\n",
    "print(\"The number of hot dogs that will be left over :\",rht)\n",
    "rb=int(var2*buns-tbuns)\n",
    "print(\"The number of hot dog buns that will be left over :\",rb)\n"
   ]
  },
  {
   "cell_type": "markdown",
   "id": "5dc179d8",
   "metadata": {},
   "source": [
    "# Ex 7.3"
   ]
  },
  {
   "cell_type": "code",
   "execution_count": 14,
   "id": "d2881d5c",
   "metadata": {},
   "outputs": [
    {
     "name": "stdout",
     "output_type": "stream",
     "text": [
      "Enter number of gallons used : 200\n",
      "enter Miles : 100000\n",
      "average is :  500.0\n",
      "Enter number of gallons used : -1\n",
      "total Average is :  500.0\n"
     ]
    }
   ],
   "source": [
    "totalGallon = 0.0 \n",
    "totalMiles = 0.0\n",
    "gallon = float(input(\"Enter number of gallons used : \")) \n",
    "totalAverage = 0.0\n",
    "while gallon>0:\n",
    "    totalGallon+=gallon \n",
    "    miles = float(input(\"enter Miles : \"))\n",
    "    average = miles/gallon \n",
    "    print(\"average is : \",average)\n",
    "    gallon = float(input(\"Enter number of gallons used : \"))\n",
    "    totalMiles+=miles \n",
    "    \n",
    "\n",
    "totalAverage = totalMiles/totalGallon\n",
    "print(\"total Average is : \",totalAverage)"
   ]
  },
  {
   "cell_type": "markdown",
   "id": "a970ef6f",
   "metadata": {},
   "source": [
    "# Ex 7.4"
   ]
  },
  {
   "cell_type": "code",
   "execution_count": 13,
   "id": "e8bc30d4",
   "metadata": {},
   "outputs": [
    {
     "name": "stdout",
     "output_type": "stream",
     "text": [
      "enter number of you want to purchase :20\n",
      "you get discount is 20 persent which is : 396.0 your purchase amount is : 1584.0\n"
     ]
    }
   ],
   "source": [
    "purchase= int(input(\"enter number of you want to purchase :\"))\n",
    "amount = purchase*99\n",
    "if(purchase<10):\n",
    "     print(\"you get no discount . purchase amount will be :\",amount)\n",
    "elif(purchase>=10 and purchase<=19):\n",
    "    discount = (10/100)*amount\n",
    "    amount1 = amount-discount\n",
    "    print(\"you get discount is 10 persent which is :\",discount,\"your purchase amount is :\",amount1)\n",
    "    \n",
    "elif(purchase>=20 and purchase<=49):\n",
    "    discount = (20/100)*amount\n",
    "    amount1 = amount-discount\n",
    "    print(\"you get discount is 20 persent which is :\",discount,\"your purchase amount is :\",amount1)\n",
    "    \n",
    "elif(purchase>=50 and purchase<=99):\n",
    "    discount = (30/100)*amount\n",
    "    amount1 = amount-discount\n",
    "    print(\"you get discount is 30 persent which is :\",discount,\"your purchase amount is :\",amount1)\n",
    "    \n",
    "elif(purchase>=100):\n",
    "    discount = (40/100)*amount\n",
    "    amount1 = amount-discount\n",
    "    print(\"you get discount is 40 persent which is:\",discount,\"your purchase amount is :\",amount1)\n"
   ]
  },
  {
   "cell_type": "markdown",
   "id": "34ee7de5",
   "metadata": {},
   "source": [
    "# Ex 7.5"
   ]
  },
  {
   "cell_type": "code",
   "execution_count": 15,
   "id": "c3128a63",
   "metadata": {},
   "outputs": [
    {
     "name": "stdout",
     "output_type": "stream",
     "text": [
      "Enter weight of packet : 500\n",
      "Shipping charges is :  2375.0\n"
     ]
    }
   ],
   "source": [
    "weight = int(input(\"Enter weight of packet : \"))\n",
    "if weight>=1 and weight<=2:\n",
    "    charges = weight*1.50\n",
    "    print(\"Shipping charges is : \",charges)\n",
    "    \n",
    "elif weight>2 and weight<=6:\n",
    "    charges =weight*3.00\n",
    "    print(\"Shipping charges is : \",charges)\n",
    "\n",
    "elif weight>6 and weight<=10:\n",
    "    charges = weightt*4.00\n",
    "    print(\"Shipping charges is : \",charges)\n",
    "    \n",
    "elif weight>10:\n",
    "    charges = weight*4.75\n",
    "    print(\"Shipping charges is : \",charges)"
   ]
  },
  {
   "cell_type": "markdown",
   "id": "29afa7e8",
   "metadata": {},
   "source": [
    "# Ex 7.6 "
   ]
  },
  {
   "cell_type": "code",
   "execution_count": 16,
   "id": "245bfb0b",
   "metadata": {},
   "outputs": [
    {
     "name": "stdout",
     "output_type": "stream",
     "text": [
      "enter weight in pound :158\n",
      "enter heigth in inches :67\n",
      "your BMI is :  24.74359545555803\n",
      "optimal\n"
     ]
    }
   ],
   "source": [
    "weight = float(input(\"enter weight in pound :\"))\n",
    "height = float(input(\"enter heigth in inches :\"))\n",
    "bmi =(weight*703)/(height**2)\n",
    "print(\"your BMI is : \",bmi)\n",
    "\n",
    "if bmi>=18.5 and bmi<=25:\n",
    "    print(\"optimal\")\n",
    "    \n",
    "elif bmi<18.5:\n",
    "    print(\"you are under weight .\")\n",
    "    \n",
    "elif bmi>25:\n",
    "    print(\"you are over weight .\")"
   ]
  },
  {
   "cell_type": "markdown",
   "id": "9ff42659",
   "metadata": {},
   "source": [
    "# Ex 8.1"
   ]
  },
  {
   "cell_type": "code",
   "execution_count": 26,
   "id": "6d901631",
   "metadata": {},
   "outputs": [
    {
     "name": "stdout",
     "output_type": "stream",
     "text": [
      "Enter your budget : 5000\n",
      "ENter your number of monthly expenses : 4\n",
      "enter  expenses  : 100\n",
      "enter  expenses  : 100\n",
      "enter  expenses  : 100\n",
      "enter  expenses  : 100\n",
      "Your Expensis :  400.0\n",
      "Your Budget :  5000.0\n",
      "you are under budget .\n"
     ]
    }
   ],
   "source": [
    "total = 0.0\n",
    "budget = float(input(\"Enter your budget : \"))\n",
    "expenses = int(input(\"ENter your number of monthly expenses : \"))\n",
    "for i in range(0,expenses):\n",
    "    exp=int(input(\"enter  expenses  : \" ))\n",
    "    total+=exp\n",
    "result = budget-total\n",
    "print(\"Your Expensis : \",total)\n",
    "print(\"Your Budget : \",budget)\n",
    "if result<0:\n",
    "    print(\"your are out of budget .\")\n",
    "elif result==0:\n",
    "    print(\"you have same budget and same expenses.\")\n",
    "else:\n",
    "    print(\"you are under budget .\")"
   ]
  },
  {
   "cell_type": "markdown",
   "id": "1f34078e",
   "metadata": {},
   "source": [
    "# Ex 8.2"
   ]
  },
  {
   "cell_type": "code",
   "execution_count": 28,
   "id": "17591421",
   "metadata": {},
   "outputs": [
    {
     "name": "stdout",
     "output_type": "stream",
     "text": [
      "Enter number of years :1\n",
      "Enter number of inches rain in month 1 :1\n",
      "Enter number of inches rain in month 2 :2\n",
      "Enter number of inches rain in month 3 :3\n",
      "Enter number of inches rain in month 4 :4\n",
      "Enter number of inches rain in month 5 :5\n",
      "Enter number of inches rain in month 6 :67\n",
      "Enter number of inches rain in month 7 :7\n",
      "Enter number of inches rain in month 8 :8\n",
      "Enter number of inches rain in month 9 :9\n",
      "Enter number of inches rain in month 10 :10\n",
      "Enter number of inches rain in month 11 :11\n",
      "Enter number of inches rain in month 12 :12\n",
      "number of years :  1\n",
      "number of inches rain in all months :  139\n",
      "Average rain of one month :  11.583333333333334\n"
     ]
    }
   ],
   "source": [
    "inches=0\n",
    "year = int(input(\"Enter number of years :\"))\n",
    "for i in range(0,year):\n",
    "    for i in range(0,12):\n",
    "        inches+=int(input(\"Enter number of inches rain in month {} :\".format(i+1)))\n",
    "        \n",
    "print(\"number of years : \",year)\n",
    "print(\"number of inches rain in all months : \",inches)\n",
    "average = inches/(year*12)\n",
    "print(\"Average rain of one month : \",average)"
   ]
  },
  {
   "cell_type": "markdown",
   "id": "bdb997bc",
   "metadata": {},
   "source": [
    "# Ex 8.3"
   ]
  },
  {
   "cell_type": "code",
   "execution_count": 29,
   "id": "36b19973",
   "metadata": {},
   "outputs": [
    {
     "name": "stdout",
     "output_type": "stream",
     "text": [
      "enter you first guess :45\n",
      "Congratulation ! you guessed the number .\n"
     ]
    }
   ],
   "source": [
    "number = 45\n",
    "guess = int(input(\"enter you first guess :\"))\n",
    "if guess==number:\n",
    "    print(\"Congratulation ! you guessed the number .\")\n",
    "while number!=guess:\n",
    "    guess = int(input(\"enter you  guess again :\"))\n",
    "    if(guess>45):\n",
    "        print(\"its too largs pleas try again\")\n",
    "    \n",
    "    elif(guess<45):\n",
    "        print(\"Its too small try agian \")\n",
    "    elif(guess==45):\n",
    "        print(\"Congratulation ! you guessed the number .\")\n"
   ]
  },
  {
   "cell_type": "markdown",
   "id": "5a656976",
   "metadata": {},
   "source": [
    "# Ex 8.4"
   ]
  },
  {
   "cell_type": "code",
   "execution_count": 30,
   "id": "45107ef1",
   "metadata": {},
   "outputs": [
    {
     "name": "stdout",
     "output_type": "stream",
     "text": [
      "Enter Number Of Organisms : 20\n",
      "Percentage : 10\n",
      "Enter Numbe Of Dayz : 4\n",
      "1           20\n",
      "2           26.0\n",
      "3           33.8\n",
      "4           43.94\n",
      "5           57.122\n",
      "6           74.2586\n",
      "7           96.53618\n",
      "8           125.497034\n",
      "9           163.14614419999998\n",
      "10           212.08998745999997\n"
     ]
    }
   ],
   "source": [
    "organisms = int(input(\"Enter Number Of Organisms : \"))\n",
    "avgDailtIncrease= int(input(\"Percentage : \"))\n",
    "nmbrOfDayz= int(input(\"Enter Numbe Of Dayz : \"))\n",
    "\n",
    "var=organisms\n",
    "\n",
    "for i in range(1,11):\n",
    "    \n",
    "    print(i,'         ' ,var)\n",
    "    v=var*(30/100)\n",
    "    var+=v"
   ]
  },
  {
   "cell_type": "code",
   "execution_count": null,
   "id": "218d7992",
   "metadata": {},
   "outputs": [],
   "source": []
  }
 ],
 "metadata": {
  "kernelspec": {
   "display_name": "Python 3",
   "language": "python",
   "name": "python3"
  },
  "language_info": {
   "codemirror_mode": {
    "name": "ipython",
    "version": 3
   },
   "file_extension": ".py",
   "mimetype": "text/x-python",
   "name": "python",
   "nbconvert_exporter": "python",
   "pygments_lexer": "ipython3",
   "version": "3.8.8"
  }
 },
 "nbformat": 4,
 "nbformat_minor": 5
}
